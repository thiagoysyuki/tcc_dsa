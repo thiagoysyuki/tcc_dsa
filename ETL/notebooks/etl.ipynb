{
 "cells": [
  {
   "cell_type": "code",
   "execution_count": 1,
   "id": "25ce2733",
   "metadata": {},
   "outputs": [],
   "source": [
    "import requests\n",
    "import pandas as pd\n",
    "import json\n",
    "from dotenv import load_dotenv\n",
    "import os\n",
    "import datetime as dt\n",
    "import json\n",
    "import pyarrow.parquet as pq\n",
    "import pyarrow as pa"
   ]
  },
  {
   "cell_type": "code",
   "execution_count": null,
   "id": "7dddee9a",
   "metadata": {},
   "outputs": [],
   "source": [
    "folder = 'C:/tcc_dsa/data/raw'\n",
    "\n",
    "for ticker in os.listdir(folder):\n",
    "    if ticker.endswith('.parquet'):\n",
    "        df = pq.read_table(os.path.join(folder, ticker)).to_pandas()\n",
    "        df['ticker'] = ticker.split('.')[0]\n",
    "        df['date'] = pd.to_datetime(df['date'])\n",
    "        df['date'] = df['date'].dt.strftime('%Y-%m-%d')\n",
    "        df.to_csv(os.path.join(folder, ticker.replace('.parquet', '.csv')), index=False)"
   ]
  },
  {
   "cell_type": "code",
   "execution_count": null,
   "id": "13ab13a7",
   "metadata": {},
   "outputs": [
    {
     "ename": "SyntaxError",
     "evalue": "unterminated string literal (detected at line 1) (3677094012.py, line 1)",
     "output_type": "error",
     "traceback": [
      "  \u001b[36mCell\u001b[39m\u001b[36m \u001b[39m\u001b[32mIn[3]\u001b[39m\u001b[32m, line 1\u001b[39m\n\u001b[31m    \u001b[39m\u001b[31mdb.query(\"\u001b[39m\n             ^\n\u001b[31mSyntaxError\u001b[39m\u001b[31m:\u001b[39m unterminated string literal (detected at line 1)\n"
     ]
    }
   ],
   "source": [
    "db.query(\"  \n",
    "SELECT DISTINCT ticker\n",
    "    FROM stock_data\n",
    "    WHERE ticker IS NOT NULL\n",
    "\")\n"
   ]
  }
 ],
 "metadata": {
  "kernelspec": {
   "display_name": ".venv",
   "language": "python",
   "name": "python3"
  },
  "language_info": {
   "codemirror_mode": {
    "name": "ipython",
    "version": 3
   },
   "file_extension": ".py",
   "mimetype": "text/x-python",
   "name": "python",
   "nbconvert_exporter": "python",
   "pygments_lexer": "ipython3",
   "version": "3.12.4"
  }
 },
 "nbformat": 4,
 "nbformat_minor": 5
}
